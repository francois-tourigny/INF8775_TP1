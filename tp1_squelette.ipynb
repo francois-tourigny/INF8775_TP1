{
 "cells": [
  {
   "cell_type": "markdown",
   "metadata": {},
   "source": [
    "# INF8775 – Analyse et conception d’algorithmes\n",
    "# TP1 – Automne 2024"
   ]
  },
  {
   "cell_type": "markdown",
   "metadata": {},
   "source": [
    "TOURIGNY, François 2079718\n",
    "\n",
    "CÔTÉ, Gabriel 2082508"
   ]
  },
  {
   "cell_type": "markdown",
   "metadata": {},
   "source": [
    "Note finale: "
   ]
  },
  {
   "cell_type": "markdown",
   "metadata": {},
   "source": [
    "<u>**Date limite de remise :**</u>  1er Octobre 23h59 (Groupe B2), 8 Octobre 23h59 (Groupe B1)"
   ]
  },
  {
   "cell_type": "markdown",
   "metadata": {},
   "source": [
    "# Instructions\n",
    "\n",
    "## Rédaction et remise du rapport\n",
    "\n",
    "- Ce notebook constitue à la fois le sujet du TP, votre code et votre rapport. Il contient déjà du code pour faciliter vos mesures et l'affichage de vos résultats, ainsi qu'un squelette pour votre rapport.\n",
    "\n",
    "- Complétez directement le notebook, vous êtes libres de créer des nouvelles cellules de code ou de texte. \n",
    "\n",
    "- Les questions et tâches à effectuées sont généralement indiquées par un TODO, mais lisez attentivement car nous pourrions avoir oublié d'en indiquer certaines.\n",
    "\n",
    "- Des questions sont réutilisées d'un algorithme à l'autre (puisque l'on reproduit les expérimentations à des fins de comparaison). Veillez à suffisament développer les premières réponses afin de l'on comprenne bien votre raisonnement et pour montrer votre bonne compréhension. Vous pourrez être plus concis par la suite.\n",
    "\n",
    "- <u>**IMPORTANT**</u> Remettez le fichier du notebook sur Moodle avec le nom `MATRICULE1_MATRICULE2.ipynb`\n",
    "\n",
    "- Vous pouvez inclure du code trouvé sur Internet, mais vous devez en mentionner la source, sous peine d'être sanctionnés pour plagiat.\n",
    "\n",
    "## Mise en situation\n",
    "\n",
    "Ce travail pratique se répartit sur deux séances de laboratoire et porte sur l’analyse empirique et hybride des algorithmes. Dans les capsules vidéo de la semaine 3, trois approches d’analyse de l’implantation d’un algorithme sont décrites. Vous les mettrez en pratique pour des algorithmes de résolution d’un problème connu.\n",
    "\n",
    "\n",
    "## Description du problème\n",
    "\n",
    "On vous demande de résoudre le problème classique de trier une liste de nombres aléatoires.\n",
    "\n",
    "La taille de la liste ainsi que le nombre maximal permi changeront d'un échantillon à l'autre. Vous pouvez utilisez le code fourni pour générer plus d'instances, mais on fournit aussi des instances intéressantes pour pousser votre réflexion plus loin."
   ]
  },
  {
   "cell_type": "markdown",
   "metadata": {},
   "source": [
    "## Algorithmes à implanter\n",
    "\n",
    "On vous demande de résoudre ce problème de 5 façons différentes :\n",
    "\n",
    "1. En utilisant un algorithme simple: `Bubble Sort` ;\n",
    "2. En utilisant une amélioration de l'algorithme précédent: `Cocktail Shaker Sort` ;\n",
    "3. En utilisant un algorithme diviser pour régner: `Merge Sort` ;\n",
    "4. En utilisant l'algorithme précédent avec un seuil de récursivité non élémentaire ;\n",
    "5. En utilisant un algorithme non comparatif: `Radix Sort`.\n",
    "\n",
    "Pour l’algorithme 4, vous devrez déterminer un seuil de récursivité expérimentalement. Les exemplaires dont la taille est inférieure à ce seuil ne sont plus résolus récursivement mais plutôt directement avec l’algorithme 2.\n",
    "\n",
    "Pour l'algorithme 5, on vous demande de comparer les chiffres les moins significatifs en premier (`Radix Sort LDS`)."
   ]
  },
  {
   "cell_type": "markdown",
   "metadata": {},
   "source": [
    "\n",
    "## Jeu de données\n",
    "\n",
    "La classe Problem existe pour simplifier l'interface des différentes fonctions utilitaires. Elle permet de générer des jeux de données avec la méthode `generate_sample` ci-dessous. Elle génère une liste d'une taille donnée contenant des nombres entre 1 et le maximum permis. Vous pouvez utilisez des listes aléatoires pour tester votre code."
   ]
  },
  {
   "cell_type": "code",
   "execution_count": 139,
   "metadata": {},
   "outputs": [],
   "source": [
    "import random\n",
    "from collections.abc import Iterable\n",
    "\n",
    "class Problem():\n",
    "    def __init__(self, size: int, max_number: int, num_samples: int = 5) -> None:\n",
    "        self.size = size\n",
    "        self.max_number = max_number\n",
    "        self.num_samples = num_samples\n",
    "    \n",
    "    def generate_sample(self) -> list[int]:\n",
    "        \"\"\"Returns a list of the given size containing numbers between 1 and the max_number\"\"\"\n",
    "        return [random.randint(1,self.max_number) for _ in range(self.size)]\n",
    "    \n",
    "    def generate_dataset(self) -> Iterable[list[int]]:\n",
    "        \"\"\"Returns an iterator over as many samples as are described \"\"\"\n",
    "        return (self.generate_sample() for _ in range(self.num_samples))"
   ]
  },
  {
   "cell_type": "markdown",
   "metadata": {},
   "source": [
    "# Implantations et expérimentations"
   ]
  },
  {
   "cell_type": "markdown",
   "metadata": {},
   "source": [
    "Ces fonctions auxiliaires vous sont fournies pour vérifier l'exactitude des vos algorithmes, mesurer leurs performance et afficher vos résultats.\n",
    "\n",
    "Il est recommandé de prendre le temps de lire et comprendre le code.\n",
    "\n",
    "Exécutez la cellule ci-dessous pour pouvoir utiliser les fonctions auxiliaires."
   ]
  },
  {
   "cell_type": "code",
   "execution_count": 140,
   "metadata": {},
   "outputs": [],
   "source": [
    "import matplotlib.pyplot as plt\n",
    "import time\n",
    "from collections.abc import Callable\n",
    "from math import log10\n",
    "from scipy.stats import linregress\n",
    "\n",
    "class InvalidSolution(Exception):\n",
    "    def __init__(self):\n",
    "        super().__init__(\"Invalid solution, verify your code.\")\n",
    "\n",
    "class Measure():\n",
    "    \"\"\"A wrapper to contain information on taken measures\"\"\"\n",
    "    def __init__(self, size: int, max_number: int, mean: int) -> None:\n",
    "        self.size = size\n",
    "        self.max_number = max_number\n",
    "        self.mean = mean\n",
    "\n",
    "def convert_list_to_dict(original: list[int]) -> dict[int:int]:\n",
    "    \"\"\"Converts a list into a dictionary of frequencies\"\"\"\n",
    "    freq: dict[int:int] = dict()\n",
    "    for iter in original:\n",
    "        if iter not in freq.keys():\n",
    "            freq[iter] = 0\n",
    "        freq[iter] += 1\n",
    "    return freq\n",
    "\n",
    "def is_valid_solution(original: list[int], solution: list[int]) -> bool:\n",
    "    \"\"\"Validates both if the solution is sorted and if the list was not modified\"\"\"\n",
    "    # Lists must be of equal length\n",
    "    if len(solution) != len(original):\n",
    "        return False\n",
    "    \n",
    "    # List must be in increasing order\n",
    "    for i in range(1, len(solution)):\n",
    "        if solution[i-1] > solution[i]:\n",
    "            return False\n",
    "    \n",
    "    original_freq = convert_list_to_dict(original)\n",
    "    solution_freq = convert_list_to_dict(solution)\n",
    "    # Lists must have the same values\n",
    "    for key in original_freq.keys():\n",
    "        if key not in solution_freq.keys() or\\\n",
    "            solution_freq[key] != original_freq[key]:\n",
    "            return False\n",
    "    \n",
    "    # Solution is valid\n",
    "    return True\n",
    "\n",
    "def make_problems(sizes: list[int], max_numbers: list[int], num_samples: int = 5) -> list[Problem]:\n",
    "    \"\"\"Creates problem instances using given sizes and max_numbers\"\"\"\n",
    "    problems: list[Problem] = []\n",
    "    for size in sizes:\n",
    "        for max_number in max_numbers:\n",
    "            problems.append(Problem(size,max_number,num_samples))\n",
    "    return problems\n",
    "\n",
    "def measure(procedure: Callable[[list[int]],list[int]], sample: list[int], time_scale: int = 1000) -> int:\n",
    "    \"\"\"Returns the time in milliseconds taken to run the procedure.\n",
    "\n",
    "    Raises:\n",
    "        InvalidSolution: If the procedure returns an invalid solution, raises an exception.\n",
    "    \"\"\"\n",
    "    start: int = time.time() * time_scale\n",
    "    solution: list[int] = procedure(sample)\n",
    "    end: int = time.time() * time_scale\n",
    "    if not is_valid_solution(sample, solution):\n",
    "        raise InvalidSolution()\n",
    "    return round(end - start)\n",
    "\n",
    "def measure_mean(procedure: Callable[[list[int]],list[int]], prob: Problem, time_scale: int = 1000) -> Measure:\n",
    "    \"\"\"Generates multiple samples with the specified parameters and returns the mean time in milliseconds\n",
    "\n",
    "    Raises:\n",
    "        InvalidSolution: If one of the samples results in an invalid solution.\n",
    "    \"\"\"\n",
    "    mean_time = sum(\n",
    "        [measure(procedure,sample,time_scale) for sample in prob.generate_dataset()]\n",
    "    ) / prob.num_samples\n",
    "    return Measure(prob.size, prob.max_number, mean_time)\n",
    "\n",
    "def measure_range(procedure: Callable[[list[int]],list[int]], problems: list[Problem], time_scale: int = 1000) -> list[Measure]:\n",
    "    \"\"\"Measures the mean time taken in milliseconds for each size in the given list.\n",
    "    Uses a fixed max_number to measure the effect of size on its own.\n",
    "\n",
    "    Raises:\n",
    "        InvalidSolution: If one of the samples results in an invalid solution.\n",
    "    \n",
    "    Returns:\n",
    "        A list of Measure instances containing the specifications\n",
    "        of the problem as well as the mean time.\n",
    "    \"\"\"\n",
    "    return [\n",
    "        measure_mean(procedure, prob, time_scale)\n",
    "        for prob in problems\n",
    "    ]\n",
    "\n",
    "def test_threshold(\n",
    "    procedure: Callable[[list[int],int],list[int]],\n",
    "    thresholds: list[int], problem: Problem, time_scale: int = 1000\n",
    ") -> dict[int,int]:\n",
    "    \"\"\"Tests the different thresholds on the same problem instance.\"\"\"\n",
    "    threshold_measures = {t:0 for t in thresholds}\n",
    "    for sample in problem.generate_dataset():\n",
    "        for t in thresholds:\n",
    "            start = time.time() * time_scale\n",
    "            solution = procedure(sample,t)\n",
    "            end = time.time() * time_scale\n",
    "            if not is_valid_solution(sample,solution):\n",
    "                raise InvalidSolution()\n",
    "            threshold_measures[t] += (end - start) / problem.num_samples\n",
    "    return threshold_measures\n",
    "\n",
    "def estimate_threshold(\n",
    "    first_data: dict[int,int],\n",
    "    second_data: dict[int,int],\n",
    "    first_label: str,\n",
    "    second_label: str,\n",
    "    y_label: str\n",
    "):\n",
    "    plt.plot(list(first_data.keys()),list(first_data.values()),label=first_label)\n",
    "    plt.plot(list(second_data.keys()),list(second_data.values()),label=second_label)\n",
    "    plt.xlabel('Taille')\n",
    "    plt.ylabel(y_label)\n",
    "    plt.title('Estimation du seuil')\n",
    "    plt.show()\n",
    "\n",
    "def display_threshold_measures(data: dict[int,int]):\n",
    "    \"\"\"Displays a graph of the time take to solve in regards to the chosen threshold\"\"\"\n",
    "    x = list(data.keys())\n",
    "    y = list(data.values())\n",
    "    plt.plot(x, y, label='Mesures')\n",
    "    plt.scatter(x, y, label='Mesures')\n",
    "\n",
    "    # Add labels and title\n",
    "    plt.xlabel('Seuil')\n",
    "    plt.ylabel('Temps (ms)')\n",
    "    plt.title('Selection du seuil')\n",
    "    plt.show()\n",
    "     \n",
    "def display_data_as_table(measures: list[Measure]):\n",
    "    \"\"\"Prints a table with the data in the given list of measures\"\"\"\n",
    "    print(\"{: <12} {: <12} {: <12}\".format(\"Taille\", \"Nombre maximal\", \"Temps moyen (ms)\"))\n",
    "    for measure in measures:\n",
    "        print(\"{: <12} {: <12} {: <12}\".format(measure.size, measure.max_number, measure.mean))\n",
    "\n",
    "### The different tests are below, the names are in french to avoid confusion\n",
    "\n",
    "def test_de_puissance(\n",
    "    data: dict[int,int],\n",
    "    x_label: str,\n",
    "    y_label: str,\n",
    "    title: str = \"Test de puissance\"\n",
    "):\n",
    "    \"\"\"Takes the data and displays it into the corresponding test graph.\n",
    "    It applies no transformations to the data.\n",
    "\n",
    "    Args:\n",
    "        data (dict[int,int]): A dictionnary mapping the x variable to the y variable\n",
    "    \"\"\"\n",
    "    # Log both sets of values\n",
    "    x = list(data.keys())\n",
    "    y = list(data.values())\n",
    "    \n",
    "    # Perform the lin regression\n",
    "    m, b, rvalue, _, _ = linregress(x, y)\n",
    "    \n",
    "    # Estimate the values of y based on the lin regression results\n",
    "    predicted = [m * iter + b for iter in x]\n",
    "\n",
    "    # Create the line equation\n",
    "    line_eq = f\"y = {m:.2f}x + {b:.2f}\"\n",
    "    \n",
    "    # Plot the points\n",
    "    plt.scatter(x, y, label='Mesures')\n",
    "\n",
    "    # Plot the regression line\n",
    "    plt.plot(x, predicted, color=\"red\", label=f'Regression linéaire R²={round(rvalue**2,6)}')\n",
    "    \n",
    "    # Add labels and title\n",
    "    plt.xlabel(x_label)\n",
    "    plt.ylabel(y_label)\n",
    "    plt.title(title)\n",
    "\n",
    "    # Add legend\n",
    "    plt.legend(bbox_to_anchor=(0.60, 0), loc='lower left')\n",
    "\n",
    "    # Display the line equation\n",
    "    plt.text(min(x), max(y), line_eq)\n",
    "\n",
    "    # Show the plot\n",
    "    plt.show()\n",
    "\n",
    "def test_de_rapport(\n",
    "    data: dict[int,int],\n",
    "    x_label: str,\n",
    "    y_label: str,\n",
    "    title: str = \"Test de rapport\"\n",
    "):\n",
    "    \"\"\"Takes the data and displays it into the corresponding test graph.\n",
    "    It applies no transformations to the data.\n",
    "\n",
    "    Args:\n",
    "        data (dict[int,int]): A dictionnary mapping the x variable to the y variable\n",
    "    \"\"\"\n",
    "    x = list(data.keys())\n",
    "    y = list(data.values())\n",
    "\n",
    "    plt.plot(x, y, label='Mesures')\n",
    "    plt.scatter(x, y, label='Mesures')\n",
    "\n",
    "    # Add labels and title\n",
    "    plt.xlabel(x_label)\n",
    "    plt.ylabel(y_label)\n",
    "    plt.title(title)\n",
    "    plt.show()\n",
    "\n",
    "def test_de_constantes(\n",
    "    data: dict[int,int],\n",
    "    x_label: str,\n",
    "    y_label: str = \"Temps (ms)\",\n",
    "    title: str = \"Test de constantes\"\n",
    "):\n",
    "    \"\"\"Takes the data and displays it into the corresponding test graph.\n",
    "    It applies no transformations to the data.\n",
    "\n",
    "    Args:\n",
    "        data (dict[int,int]): A dictionnary mapping the x variable to the y variable\n",
    "    \"\"\"\n",
    "    x = list(data.keys())\n",
    "    y = list(data.values())\n",
    "\n",
    "    # Perform linear regression\n",
    "    m, b, rvalue, _, _ = linregress(x, y)\n",
    "\n",
    "    predicted = [m * iter + b for iter in x]\n",
    "\n",
    "    # Create the line equation\n",
    "    line_eq = f\"y = {m:.2E}x + {b:.2E}\"\n",
    "\n",
    "    # Plot the points\n",
    "    plt.scatter(x, y, label='Mesures')\n",
    "\n",
    "    # Plot the regression line\n",
    "    plt.plot(x, predicted, color=\"red\", label=f'Regression linéaire R²={round(rvalue**2,6)}')\n",
    "\n",
    "    # Add labels and title\n",
    "    plt.xlabel(x_label)\n",
    "    plt.ylabel(y_label)\n",
    "    plt.title(title)\n",
    "\n",
    "    # Add legend\n",
    "    plt.legend(bbox_to_anchor=(0.60, 0), loc='lower left')\n",
    "\n",
    "    # Display the line equation\n",
    "    plt.text(min(x), max(y), line_eq)\n",
    "\n",
    "    # Show the plot\n",
    "    plt.show()"
   ]
  },
  {
   "cell_type": "markdown",
   "metadata": {},
   "source": [
    "## Partie 1 : Algorithme simple (Bubble Sort) (5 pts)"
   ]
  },
  {
   "cell_type": "markdown",
   "metadata": {},
   "source": [
    "### Implantation"
   ]
  },
  {
   "cell_type": "markdown",
   "metadata": {},
   "source": [
    "<u>**Question 1.a):**</u> Implantez l'algorithme de tri bubble sort.\n",
    "\n",
    "Utilisez la fonction `is_valid_solution` pour valider votre réponse sur quelques exemplaires aléatoires."
   ]
  },
  {
   "cell_type": "code",
   "execution_count": 141,
   "metadata": {},
   "outputs": [],
   "source": [
    "def bubble_sort(original: list[int]) -> list[int]:\n",
    "    # TODO Bubble sort\n",
    "    swap = True\n",
    "    while swap:\n",
    "        swap = False\n",
    "        for i in range(len(original)-1):\n",
    "            if original[i] > original[i+1]:\n",
    "                swap = True\n",
    "                temp = original[i]\n",
    "                original[i] = original[i+1]\n",
    "                original[i+1] = temp\n",
    "    return original"
   ]
  },
  {
   "cell_type": "code",
   "execution_count": null,
   "metadata": {},
   "outputs": [],
   "source": [
    "problem = Problem(10, 100)\n",
    "sample = problem.generate_sample()\n",
    "is_valid_solution(sample, bubble_sort(sample))"
   ]
  },
  {
   "cell_type": "markdown",
   "metadata": {},
   "source": [
    "<u>**Question 1.b):**</u> Quelle est la complexité asymptotique théorique de cet algorithme? Veuillez justifier."
   ]
  },
  {
   "cell_type": "markdown",
   "metadata": {},
   "source": [
    "La complexité de cet algorithme est thétha de n^2 parce que pour chaque passage, on passe une fois à travers les n nombres et on va avoir à replacer les n nombres au bon endroit. Le pire cas étant quand la liste contient le nombre le plus petit à la fin alors on doit prendre chacun des nombres et aller les porter après les nombre le plus plus petit donc n fois n passages ce que nous donne une complexité de n^2."
   ]
  },
  {
   "cell_type": "markdown",
   "metadata": {},
   "source": [
    "### Mesures"
   ]
  },
  {
   "cell_type": "markdown",
   "metadata": {},
   "source": [
    "Pour cet algorithme ainsi que les prochains, vous devez choisir les différentes tailles de liste que vous voulez tester. Choisissez des tailles qui ont des résultats intéressants, une taille de 5 qui se termine en une fraction de millisecondes n'est pas le meilleur résultat pour faire des comparaisons.\n",
    "\n",
    "Pour faire des mesures, utilisez la fonction `measure_range`. Elle permet de faire des mesures sur une liste de problèmes. Vous pouvez facilement créer des problèmes en utilisant la fonction `make_problems`. Ne faites varier que la taille <u>**OU**</u> le nombre maximal pour observer le comportement d'un des deux paramètres. Le code fournit s'occupera de générer des échantillons aléatoires, de calculer le temps moyen et de vous retourner une liste de mesures. Vous pouvez utilisez la fonction `range` de python pour obtenir une grande liste et avoir plusieurs points (faites attention au temps d'exécution).\n",
    "\n",
    "Ces données peuvent ensuite être passées aux fonctions `test_de_...` en les mettant dans un `dict` python tel que `x:y`. Les tests ont de la documentation pour expliquer leur utilisation en plus de détails."
   ]
  },
  {
   "cell_type": "markdown",
   "metadata": {},
   "source": [
    "<u>**Question 1.c):**</u> Faites afficher vos mesures dans un tableau avec la fonction `display_data_as_table`."
   ]
  },
  {
   "cell_type": "code",
   "execution_count": 63,
   "metadata": {},
   "outputs": [],
   "source": [
    "# TODO take measurements\n",
    "results_size_change = measure_range(bubble_sort, make_problems([10*x for x in range(1, 101)], [10000 for _ in range(10)]))"
   ]
  },
  {
   "cell_type": "code",
   "execution_count": 64,
   "metadata": {},
   "outputs": [],
   "source": [
    "results_max_number = measure_range(bubble_sort, make_problems([500 for _ in range(10)], [100*x for x in range(1, 101)]))"
   ]
  },
  {
   "cell_type": "code",
   "execution_count": 65,
   "metadata": {},
   "outputs": [],
   "source": [
    "def dict_size_from_measures(measures: list[Measure]) -> dict:\n",
    "    dict = {}\n",
    "    for measure in measures:\n",
    "        dict[measure.size] = measure.mean\n",
    "    return dict"
   ]
  },
  {
   "cell_type": "code",
   "execution_count": 66,
   "metadata": {},
   "outputs": [],
   "source": [
    "def dict_max_number_from_measures(measures: list[Measure]) -> dict:\n",
    "    dict = {}\n",
    "    for measure in measures:\n",
    "        dict[measure.max_number] = measure.mean\n",
    "    return dict"
   ]
  },
  {
   "cell_type": "code",
   "execution_count": 67,
   "metadata": {},
   "outputs": [],
   "source": [
    "dict_results_size = dict_size_from_measures(results_size_change)\n",
    "dict_results_max_number = dict_max_number_from_measures(results_max_number)"
   ]
  },
  {
   "cell_type": "code",
   "execution_count": null,
   "metadata": {},
   "outputs": [],
   "source": [
    "# TODO Display data as tables\n",
    "display_data_as_table(results_size_change)\n",
    "print(dict_results_size)\n",
    "display_data_as_table(results_max_number)\n",
    "print(dict_results_max_number)"
   ]
  },
  {
   "cell_type": "markdown",
   "metadata": {},
   "source": [
    "### Analyse Hybride"
   ]
  },
  {
   "cell_type": "markdown",
   "metadata": {},
   "source": [
    "#### Test de puissance"
   ]
  },
  {
   "cell_type": "markdown",
   "metadata": {},
   "source": [
    "<u>**Question 2.a):**</u> Effectuez le test de puissance de votre algorithme."
   ]
  },
  {
   "cell_type": "code",
   "execution_count": null,
   "metadata": {},
   "outputs": [],
   "source": [
    "# TODO Test de puissance\n",
    "test_de_puissance(dict_results_size, \"nombre d'éléments dans la liste\", 'temps moyen de tri (ms)', \"Test de puissance Bubble sort nombre d'éléments\")\n",
    "test_de_puissance(dict_results_max_number, \"nombre maximal\", 'temps moyen de tri (ms)', 'Test de puissance Bubble sort valeurs max')"
   ]
  },
  {
   "cell_type": "markdown",
   "metadata": {},
   "source": [
    "<u>**Question 2.b):**</u> Analysez le graphe obtenu pour le test de puissance."
   ]
  },
  {
   "cell_type": "markdown",
   "metadata": {},
   "source": [
    "Avec les graphiques obtenus nous voyons que la puissance semble être définie par une relation exponentielle. En effet, l'augmentation du nombre d'éléments croit plus rapidement qu'une relation polynomiale. Au niveau du changement de la grosseur des nombres utilisés, on ne voit aucune augmentation du temps de tri par rapport aux valeurs. Le rapport entre le temps de tri et la grosseur des chiffres serait linéaire comme il n'y a aucune incidence entre la valeur maximale et le temps de tri."
   ]
  },
  {
   "cell_type": "markdown",
   "metadata": {},
   "source": [
    "#### Test de rapport"
   ]
  },
  {
   "cell_type": "markdown",
   "metadata": {},
   "source": [
    "<u>**Question 3.a):**</u> Effectuez le test de rapport de votre algorithme."
   ]
  },
  {
   "cell_type": "code",
   "execution_count": null,
   "metadata": {},
   "outputs": [],
   "source": [
    "# TODO Test de rapport\n",
    "def change_to_predict(init_dict: dict, hypothesis = lambda x: x) -> dict:\n",
    "    new_dict = {}\n",
    "    for key in init_dict:\n",
    "        new_dict[key] = init_dict[key]/hypothesis(key)\n",
    "    return new_dict\n",
    "\n",
    "test_de_rapport(change_to_predict(dict_results_size, lambda x: x**2), \"nombre d'éléments dans la liste\", 'temps de tri divisé par hypothèse de relation exponentielle', \"Test de rapport Bubble sort nombre d'éléments au carre(n^2)\")\n",
    "\n",
    "# le test de rapport pour la valeur maximale n<est pas pertinent comme nous avons une relation qui ne dépend pas de x. Il est donc impossible de faire un graphe\n",
    "#test_de_rapport(change_to_predict(dict_results_max_number, lambda x: 1), \"nombre maximal\", 'temps de tri divisé par hypothèse de relation constante', 'Test de rapport Bubble sort valeurs max correlation de O(1)')"
   ]
  },
  {
   "cell_type": "markdown",
   "metadata": {},
   "source": [
    "<u>**Question 3.b):**</u> Analysez le graphe obtenu pour le test de rapport."
   ]
  },
  {
   "cell_type": "markdown",
   "metadata": {},
   "source": [
    "On voit que les valeurs semblent se rendre vers une valeur et converger. On voit donc que notre hypothèse de relation exponentielle semble bonne comme il existe une constante vers lequel on converge."
   ]
  },
  {
   "cell_type": "markdown",
   "metadata": {},
   "source": [
    "#### Test des constantes"
   ]
  },
  {
   "cell_type": "markdown",
   "metadata": {},
   "source": [
    "<u>**Question 4.a):**</u> Effectuez le test des constantes de votre algorithme."
   ]
  },
  {
   "cell_type": "code",
   "execution_count": null,
   "metadata": {},
   "outputs": [],
   "source": [
    "# TODO Test des constantes\n",
    "\n",
    "def change_x_to_predict(init_dict: dict, hypothesis = lambda x: x) -> dict:\n",
    "    new_dict = {}\n",
    "    for key in init_dict:\n",
    "        new_dict[hypothesis(key)] = init_dict[key]\n",
    "    return new_dict\n",
    "\n",
    "test_de_constantes(change_x_to_predict(dict_results_size, lambda x: x**2), \"nombre d'éléments\", 'temps moyen de tri (ms)', \"Test de constantes Bubble sort nombre d'éléments\")\n",
    "#\n",
    "# le test de constante n<est pas pertinent pour une relation lineaire et donc deja constante\n",
    "# test_de_constantes(change_x_to_predict(dict_results_max_number, lambda x: 1), \"grosseur maximale des nombres\", 'temps moyen de tri (ms)', 'Test de constantes Bubble sort valeurs max')"
   ]
  },
  {
   "cell_type": "markdown",
   "metadata": {},
   "source": [
    "<u>**Question 4.b):**</u> Analysez le graphe obtenu pour le test des constantes."
   ]
  },
  {
   "cell_type": "markdown",
   "metadata": {},
   "source": [
    "Selon le test de constante que nous avons, la relation de puissance serait très près d'être exactement n au carré. En effet, la constante obtenue est tout près de 1."
   ]
  },
  {
   "cell_type": "markdown",
   "metadata": {},
   "source": [
    "## Partie 2 : Algorithme amélioré (Cocktail Sort) (5 pts)"
   ]
  },
  {
   "cell_type": "markdown",
   "metadata": {},
   "source": [
    "### Implantation"
   ]
  },
  {
   "cell_type": "markdown",
   "metadata": {},
   "source": [
    "<u>**Question 1.a):**</u> Implantez l'algorithme de tri cocktail sort.\n",
    "\n",
    "Utilisez la fonction `is_valid_solution` pour valider votre réponse sur quelques exemplaires aléatoires."
   ]
  },
  {
   "cell_type": "code",
   "execution_count": 72,
   "metadata": {},
   "outputs": [],
   "source": [
    "def cocktail_sort(original: list[int]) -> list[int]:\n",
    "    # TODO\n",
    "    swap = True\n",
    "    while swap:\n",
    "        swap = False\n",
    "        for i in range(len(original)-1):\n",
    "            if original[i] > original[i+1]:\n",
    "                swap = True\n",
    "                temp = original[i]\n",
    "                original[i] = original[i+1]\n",
    "                original[i+1] = temp\n",
    "        if not swap:\n",
    "            break\n",
    "        for i in range(len(original)-1, 1, -1):\n",
    "            if original[i] < original[i-1]:\n",
    "                swap = True\n",
    "                temp = original[i]\n",
    "                original[i] = original[i-1]\n",
    "                original[i-1] = temp\n",
    "    return original"
   ]
  },
  {
   "cell_type": "code",
   "execution_count": null,
   "metadata": {},
   "outputs": [],
   "source": [
    "problem = Problem(10, 100)\n",
    "sample = problem.generate_sample()\n",
    "is_valid_solution(sample, cocktail_sort(sample))"
   ]
  },
  {
   "cell_type": "markdown",
   "metadata": {},
   "source": [
    "<u>**Question 1.b):**</u> Quelle est la complexité asymptotique théorique de cet algorithme? Veuillez justifier."
   ]
  },
  {
   "cell_type": "markdown",
   "metadata": {},
   "source": [
    "### Mesures"
   ]
  },
  {
   "cell_type": "markdown",
   "metadata": {},
   "source": [
    "<u>**Question 1.c):**</u> Faites afficher vos mesures dans un tableau avec la fonction `display_data_as_table`."
   ]
  },
  {
   "cell_type": "code",
   "execution_count": 74,
   "metadata": {},
   "outputs": [],
   "source": [
    "# TODO take measurements\n",
    "results_size_change_cocktail = measure_range(cocktail_sort, make_problems([10*x for x in range(1, 101)], [10000 for _ in range(10)]))"
   ]
  },
  {
   "cell_type": "code",
   "execution_count": 75,
   "metadata": {},
   "outputs": [],
   "source": [
    "results_max_number_cocktail = measure_range(cocktail_sort, make_problems([500 for _ in range(10)], [100*x for x in range(1, 101)]))"
   ]
  },
  {
   "cell_type": "code",
   "execution_count": 76,
   "metadata": {},
   "outputs": [],
   "source": [
    "dict_results_size_cocktail = dict_size_from_measures(results_size_change_cocktail)\n",
    "dict_results_max_number_cocktail = dict_max_number_from_measures(results_max_number_cocktail)"
   ]
  },
  {
   "cell_type": "code",
   "execution_count": null,
   "metadata": {},
   "outputs": [],
   "source": [
    "# TODO Display data as tables\n",
    "display_data_as_table(results_size_change_cocktail)\n",
    "print(dict_results_size_cocktail)\n",
    "display_data_as_table(results_max_number_cocktail)\n",
    "print(dict_results_max_number_cocktail)"
   ]
  },
  {
   "cell_type": "markdown",
   "metadata": {},
   "source": [
    "### Analyse Hybride"
   ]
  },
  {
   "cell_type": "markdown",
   "metadata": {},
   "source": [
    "#### Test de puissance"
   ]
  },
  {
   "cell_type": "markdown",
   "metadata": {},
   "source": [
    "<u>**Question 2.a):**</u> Effectuez le test de puissance de votre algorithme."
   ]
  },
  {
   "cell_type": "code",
   "execution_count": null,
   "metadata": {},
   "outputs": [],
   "source": [
    "# TODO Test de puissance\n",
    "test_de_puissance(dict_results_size_cocktail, \"nombre d'éléments dans la liste\", 'temps moyen de tri (ms)', \"Test de puissance Cocktail sort nombre d'éléments\")\n",
    "test_de_puissance(dict_results_max_number_cocktail, \"nombre maximal\", 'temps moyen de tri (ms)', 'Test de puissance Cocktail sort valeurs max')"
   ]
  },
  {
   "cell_type": "markdown",
   "metadata": {},
   "source": [
    "<u>**Question 2.b):**</u> Analysez le graphe obtenu pour le test de puissance."
   ]
  },
  {
   "cell_type": "markdown",
   "metadata": {},
   "source": [
    "Comme pour le tri par bulle, nous voyons que la relation linéaire n'est pas la bonne. On remarque que le temps de tri augmente beaucoup plus rapidement que le nombre d'exemplaire à trier. Le tri cocktail serait donc aussi une relation exponentielle entre le nombre d'éléments et le temps de tri. Au niveau du nombre de valeurs ça ne semble pas influencer du tout le temps de tri. Bref, le temps de tri serait constant par rapport à la grosseur des nombres."
   ]
  },
  {
   "cell_type": "markdown",
   "metadata": {},
   "source": [
    "#### Test de rapport"
   ]
  },
  {
   "cell_type": "markdown",
   "metadata": {},
   "source": [
    "<u>**Question 3.a):**</u> Effectuez le test de rapport de votre algorithme."
   ]
  },
  {
   "cell_type": "code",
   "execution_count": null,
   "metadata": {},
   "outputs": [],
   "source": [
    "# TODO Test de rapport\n",
    "test_de_rapport(change_to_predict(dict_results_size_cocktail, lambda x: x**2), \"nombre d'éléments dans la liste\", 'temps de tri divisé par le rapport exponentiel de n^2', \"Test de rapport Cocktail sort nombre d'éléments\")\n",
    "#test_de_rapport(dict_results_max_number_cocktail, \"nombre maximal\", 'temps moyen de tri (ms)', 'Test de rapport Cocktail sort valeurs max')"
   ]
  },
  {
   "cell_type": "markdown",
   "metadata": {},
   "source": [
    "<u>**Question 3.b):**</u> Analysez le graphe obtenu pour le test de rapport."
   ]
  },
  {
   "cell_type": "markdown",
   "metadata": {},
   "source": [
    "On voit comme notre intuition le pr/disait que le rapport semble être exponentiel. En effet, il semble y avoir une convergence vers une valeur constante."
   ]
  },
  {
   "cell_type": "markdown",
   "metadata": {},
   "source": [
    "#### Test des constantes"
   ]
  },
  {
   "cell_type": "markdown",
   "metadata": {},
   "source": [
    "<u>**Question 4.a):**</u> Effectuez le test des constantes de votre algorithme."
   ]
  },
  {
   "cell_type": "code",
   "execution_count": null,
   "metadata": {},
   "outputs": [],
   "source": [
    "# TODO Test des constantes\n",
    "test_de_constantes(change_x_to_predict(dict_results_size_cocktail, lambda x: x**2), \"nombre d'éléments\", 'temps moyen de tri (ms)', \"Test de constantes Cocktail sort nombre d'éléments\")\n",
    "#test_de_constantes(dict_results_max_number_cocktail, \"grosseur maximale des nombres\", 'temps moyen de tri (ms)', 'Test de constantes Cocktail sort valeurs max')"
   ]
  },
  {
   "cell_type": "markdown",
   "metadata": {},
   "source": [
    "<u>**Question 4.b):**</u> Analysez le graphe obtenu pour le test des constantes."
   ]
  },
  {
   "cell_type": "markdown",
   "metadata": {},
   "source": [
    "Tout comme pour le tri par bulle, une valeur de convergence semble être atteinte. Par contre, cette fois-ci la valeur est significativement plus petite que 1. Le tri cocktail est donc de relation de complexité n^2 tout comme le tri par bulle, mais malgré tout beaucoup plus efficace."
   ]
  },
  {
   "cell_type": "markdown",
   "metadata": {},
   "source": [
    "## Partie 3 : Algorithme diviser pour régner (Merge Sort) (5 pts)"
   ]
  },
  {
   "cell_type": "markdown",
   "metadata": {},
   "source": [
    "### Implantation"
   ]
  },
  {
   "cell_type": "markdown",
   "metadata": {},
   "source": [
    "<u>**Question 1.a):**</u> Implantez l'algorithme de tri merge sort. Cette algorithme utilise le patron de conception \"Diviser pour régner\".\n",
    "\n",
    "Utilisez la fonction `is_valid_solution` pour valider votre réponse sur quelques exemplaires aléatoires."
   ]
  },
  {
   "cell_type": "code",
   "execution_count": 81,
   "metadata": {},
   "outputs": [],
   "source": [
    "def merge_sort(original: list[int]) -> list[int]:\n",
    "    # TODO\n",
    "    if len(original) <= 1:\n",
    "        return original\n",
    "    #split\n",
    "    left = merge_sort(original[:int(len(original)/2)])\n",
    "    right = merge_sort(original[int(len(original)/2):])\n",
    "    #merge\n",
    "    merge_result = []\n",
    "    i = 0\n",
    "    j = 0\n",
    "    while i < len(left) or j < len(right):\n",
    "        if i < len(left) and (not j < len(right) or left[i] < right[j]):\n",
    "            merge_result.append(left[i])\n",
    "            i += 1\n",
    "        else:\n",
    "            merge_result.append(right[j])\n",
    "            j += 1\n",
    "    return merge_result"
   ]
  },
  {
   "cell_type": "code",
   "execution_count": null,
   "metadata": {},
   "outputs": [],
   "source": [
    "problem = Problem(10, 100)\n",
    "sample = problem.generate_sample()\n",
    "is_valid_solution(sample, merge_sort(sample))"
   ]
  },
  {
   "cell_type": "markdown",
   "metadata": {},
   "source": [
    "<u>**Question 1.b):**</u> Quelle est la complexité asymptotique théorique de cet algorithme? Veuillez justifier."
   ]
  },
  {
   "cell_type": "markdown",
   "metadata": {},
   "source": [
    "### Mesures"
   ]
  },
  {
   "cell_type": "markdown",
   "metadata": {},
   "source": [
    "<u>**Question 1.c):**</u> Faites afficher vos mesures dans un tableau avec la fonction `display_data_as_table`."
   ]
  },
  {
   "cell_type": "code",
   "execution_count": 90,
   "metadata": {},
   "outputs": [],
   "source": [
    "# TODO take measurements\n",
    "results_size_change_merge = measure_range(merge_sort, make_problems([50*x for x in range(1, 101)], [10000 for _ in range(10)]))"
   ]
  },
  {
   "cell_type": "code",
   "execution_count": 84,
   "metadata": {},
   "outputs": [],
   "source": [
    "results_max_number_merge = measure_range(merge_sort, make_problems([500 for _ in range(10)], [100*x for x in range(1, 101)]))"
   ]
  },
  {
   "cell_type": "code",
   "execution_count": 91,
   "metadata": {},
   "outputs": [],
   "source": [
    "dict_results_size_merge = dict_size_from_measures(results_size_change_merge)\n",
    "dict_results_max_number_merge = dict_max_number_from_measures(results_max_number_merge)"
   ]
  },
  {
   "cell_type": "code",
   "execution_count": null,
   "metadata": {},
   "outputs": [],
   "source": [
    "# TODO Display data as tables\n",
    "display_data_as_table(results_size_change_merge)\n",
    "print(dict_results_size_merge)\n",
    "display_data_as_table(results_max_number_merge)\n",
    "print(dict_results_max_number_merge)"
   ]
  },
  {
   "cell_type": "markdown",
   "metadata": {},
   "source": [
    "### Analyse Hybride"
   ]
  },
  {
   "cell_type": "markdown",
   "metadata": {},
   "source": [
    "#### Test de puissance"
   ]
  },
  {
   "cell_type": "markdown",
   "metadata": {},
   "source": [
    "<u>**Question 2.a):**</u> Effectuez le test de puissance de votre algorithme."
   ]
  },
  {
   "cell_type": "code",
   "execution_count": null,
   "metadata": {},
   "outputs": [],
   "source": [
    "# TODO Test de puissance\n",
    "import math\n",
    "test_de_puissance(dict_results_size_merge, \"nombre d'éléments dans la liste\", 'temps moyen de tri (ms)', \"Test de puissance Merge sort nombre d'éléments\")\n",
    "test_de_puissance(dict_results_max_number_merge, \"nombre maximal\", 'temps moyen de tri (ms)', 'Test de puissance Merge sort valeurs max')"
   ]
  },
  {
   "cell_type": "markdown",
   "metadata": {},
   "source": [
    "<u>**Question 2.b):**</u> Analysez le graphe obtenu pour le test de puissance."
   ]
  },
  {
   "cell_type": "markdown",
   "metadata": {},
   "source": [
    "Nous voyons que la relation n'est pas vraiment linéaire entre le nombre d'éléments à classer et le temps pour les trier. En effet, nous supposons que la relation serait plutôt d'ordre n log(n). Pour ce qui est "
   ]
  },
  {
   "cell_type": "markdown",
   "metadata": {},
   "source": [
    "#### Test de rapport"
   ]
  },
  {
   "cell_type": "markdown",
   "metadata": {},
   "source": [
    "<u>**Question 3.a):**</u> Effectuez le test de rapport de votre algorithme."
   ]
  },
  {
   "cell_type": "code",
   "execution_count": null,
   "metadata": {},
   "outputs": [],
   "source": [
    "# TODO Test de rapport\n",
    "test_de_rapport(change_to_predict(dict_results_size_merge, lambda x: x * math.log(x)), \"nombre d'éléments dans la liste\", 'temps moyen de tri (ms)', \"Test de rapport Merge sort nombre d'éléments\")\n",
    "#test_de_rapport(dict_results_max_number_merge, \"nombre maximal\", 'temps moyen de tri (ms)', 'Test de rapport Merge sort valeurs max')"
   ]
  },
  {
   "cell_type": "markdown",
   "metadata": {},
   "source": [
    "<u>**Question 3.b):**</u> Analysez le graphe obtenu pour le test de rapport."
   ]
  },
  {
   "cell_type": "markdown",
   "metadata": {},
   "source": [
    "On voit que malgré les sauts de valeurs, sur une plus grande tendance, nous aurions une convergence vers une valeur. En effet, le ratio augmente, mais toujours de plus en plus lentement, ce qui indique que n log(n) est le bon ordre de croissance du temps de tri selon le nombre d'éléments."
   ]
  },
  {
   "cell_type": "markdown",
   "metadata": {},
   "source": [
    "#### Test des constantes"
   ]
  },
  {
   "cell_type": "markdown",
   "metadata": {},
   "source": [
    "<u>**Question 4.a):**</u> Effectuez le test des constantes de votre algorithme."
   ]
  },
  {
   "cell_type": "code",
   "execution_count": null,
   "metadata": {},
   "outputs": [],
   "source": [
    "# TODO Test des constantes\n",
    "test_de_constantes(dict_results_size_merge, \"nombre d'éléments\", 'temps moyen de tri (ms)', \"Test de constantes Merge sort nombre d'éléments\")\n",
    "test_de_constantes(dict_results_max_number_merge, \"grosseur maximale des nombres\", 'temps moyen de tri (ms)', 'Test de constantes Merge sort valeurs max')"
   ]
  },
  {
   "cell_type": "markdown",
   "metadata": {},
   "source": [
    "<u>**Question 4.b):**</u> Analysez le graphe obtenu pour le test des constantes."
   ]
  },
  {
   "cell_type": "markdown",
   "metadata": {},
   "source": [
    "<u>**Question 4.c):**</u> Quel serait un meilleur choix de seuil? Utilisez la fonction `estimate_threshold` pour avoir une idée où commencer. Analysez le graph résultant et choisissez un seuil de départ.\n",
    "\n",
    "On recommande de compiler des nouvelles données sur des tailles plus petites. Utilisez un `time_scale` plus grand pour avoir plus de détails (indiquez les unités dans le `y_label`). Une fois que vous avez une idée d'où se situe le point de croisement, vous pouvez refaire le test sur une sélection plus restreinte de tailles en augmentant `num_samples` pour avoir des résultats plus constants."
   ]
  },
  {
   "cell_type": "code",
   "execution_count": null,
   "metadata": {},
   "outputs": [],
   "source": [
    "# TODO Find a better starting point for the threshold\n"
   ]
  },
  {
   "cell_type": "markdown",
   "metadata": {},
   "source": [
    "## Partie 4 : Algorithme diviser pour régner avec seuil arbitraire (Merge Sort) (5 pts)"
   ]
  },
  {
   "cell_type": "markdown",
   "metadata": {},
   "source": [
    "### Implantation"
   ]
  },
  {
   "cell_type": "markdown",
   "metadata": {},
   "source": [
    "<u>**Question 1.a):**</u> Reprenez l'algorithme précédent et modifiez-le pour y ajouter un seuil de récursivité. En dessous de ce seuil, vous utiliserez l'algorithme `cocktail_sort` écrit précédemment.\n",
    "\n",
    "Utilisez la fonction `is_valid_solution` pour valider votre réponse sur quelques exemplaires aléatoires."
   ]
  },
  {
   "cell_type": "code",
   "execution_count": 30,
   "metadata": {},
   "outputs": [],
   "source": [
    "def merge_sort_threshold(original: list[int], threshold: int = 1) -> list[int]:\n",
    "    # TODO\n",
    "    if len(original) <= threshold:\n",
    "        return cocktail_sort(original)\n",
    "    #split\n",
    "    left = merge_sort(original[:int(len(original)/2)])\n",
    "    right = merge_sort(original[int(len(original)/2):])\n",
    "    #merge\n",
    "    merge_result = []\n",
    "    i = 0\n",
    "    j = 0\n",
    "    while i < len(left) or j < len(right):\n",
    "        if i < len(left) and (not j < len(right) or left[i] < right[j]):\n",
    "            merge_result.append(left[i])\n",
    "            i += 1\n",
    "        else:\n",
    "            merge_result.append(right[j])\n",
    "            j += 1\n",
    "    return merge_result"
   ]
  },
  {
   "cell_type": "markdown",
   "metadata": {},
   "source": [
    "<u>**Question 1.b):**</u> À l'aide de ce que vous avez vu dans la section précédente, effectuez les mesures avec plusieurs seuils de récursivité pour déterminer le seuil le plus judicieux. Affichez les dans un graphique une fois que les mesures sont compilées. La fonction `test_threshold` vous sera utile pour faire ces tests. Choisissez bien vos seuils ainsi qu'une taille de liste permettant de bien observer la différence de performance."
   ]
  },
  {
   "cell_type": "code",
   "execution_count": 31,
   "metadata": {},
   "outputs": [],
   "source": [
    "# TODO Test different threshold values premiere exploration\n",
    "problem = Problem(1000, 10000)\n",
    "threshold_results = test_threshold(merge_sort_threshold, [x for x in range(1,2000, 5)], problem)"
   ]
  },
  {
   "cell_type": "code",
   "execution_count": null,
   "metadata": {},
   "outputs": [],
   "source": [
    "# TODO Display a graph with the measurements\n",
    "display_threshold_measures(threshold_results)"
   ]
  },
  {
   "cell_type": "code",
   "execution_count": 33,
   "metadata": {},
   "outputs": [],
   "source": [
    "# Test thresholds more precise exploration\n",
    "problem = Problem(1000, 10000, 20)\n",
    "threshold_results = test_threshold(merge_sort_threshold, [x for x in range(980,1020)], problem)"
   ]
  },
  {
   "cell_type": "code",
   "execution_count": null,
   "metadata": {},
   "outputs": [],
   "source": [
    "# Display a graph with the measurements\n",
    "display_threshold_measures(threshold_results)"
   ]
  },
  {
   "cell_type": "markdown",
   "metadata": {},
   "source": [
    "<u>**Question 1.c):**</u> Quel est le seuil de récursivité le plus judicieux? Sur quel critère l'avez vous sélectionné? Pourquoi des seuils inférieurs ou supérieurs donnent-ils de moins bonnes performances?\n",
    "\n",
    "Changez le seuil par défaut de votre fonction au meilleur choix. Ceci vous permettra d'utiliser les fonctions utilitaires sans passer le seuil comme argument."
   ]
  },
  {
   "cell_type": "markdown",
   "metadata": {},
   "source": [
    "<u>**Question 1.d):**</u> La complexité asymptotique théorique de cet algorithme a-t-elle changée? Veuillez justifier."
   ]
  },
  {
   "cell_type": "markdown",
   "metadata": {},
   "source": [
    "### Mesures"
   ]
  },
  {
   "cell_type": "markdown",
   "metadata": {},
   "source": [
    "<u>**Question 1.e):**</u> Faites afficher vos mesures dans un tableau avec la fonction `display_data_as_table`."
   ]
  },
  {
   "cell_type": "code",
   "execution_count": null,
   "metadata": {},
   "outputs": [],
   "source": [
    "# TODO take measurements\n",
    "results_size_change_merge_threshold = measure_range(merge_sort_threshold, make_problems([100*x for x in range(1, 11)], [10000 for _ in range(10)]))\n",
    "results_max_number_merge_threshold = measure_range(merge_sort_threshold, make_problems([1000 for _ in range(10)], [1000*x for x in range(1, 11)]))\n",
    "dict_results_size_merge_threshold = dict_size_from_measures(results_size_change_merge_threshold)\n",
    "dict_results_max_number_merge_threshold = dict_max_number_from_measures(results_max_number_merge_threshold)\n",
    "display_data_as_table(results_size_change_merge_threshold)\n",
    "print(dict_results_size_merge_threshold)\n",
    "display_data_as_table(results_max_number_merge_threshold)\n",
    "print(dict_results_max_number_merge_threshold)"
   ]
  },
  {
   "cell_type": "markdown",
   "metadata": {},
   "source": [
    "### Analyse Hybride"
   ]
  },
  {
   "cell_type": "markdown",
   "metadata": {},
   "source": [
    "#### Test de puissance"
   ]
  },
  {
   "cell_type": "markdown",
   "metadata": {},
   "source": [
    "<u>**Question 2.a):**</u> Effectuez le test de puissance de votre algorithme."
   ]
  },
  {
   "cell_type": "code",
   "execution_count": null,
   "metadata": {},
   "outputs": [],
   "source": [
    "# TODO Test de puissance\n",
    "test_de_puissance(dict_results_size_merge_threshold, \"nombre d'éléments dans la liste\", 'temps moyen de tri (ms)', \"Test de puissance Merge sort avec threshold nombre d'éléments\")\n",
    "test_de_puissance(dict_results_max_number_merge_threshold, \"nombre maximal\", 'temps moyen de tri (ms)', 'Test de puissance Merge avec threshold sort valeurs max')"
   ]
  },
  {
   "cell_type": "markdown",
   "metadata": {},
   "source": [
    "<u>**Question 2.b):**</u> Analysez le graphe obtenu pour le test de puissance."
   ]
  },
  {
   "cell_type": "markdown",
   "metadata": {},
   "source": [
    "#### Test de rapport"
   ]
  },
  {
   "cell_type": "markdown",
   "metadata": {},
   "source": [
    "<u>**Question 3.a):**</u> Effectuez le test de rapport de votre algorithme."
   ]
  },
  {
   "cell_type": "code",
   "execution_count": null,
   "metadata": {},
   "outputs": [],
   "source": [
    "# TODO Test de rapport\n",
    "test_de_rapport(dict_results_size_merge_threshold, \"nombre d'éléments dans la liste\", 'temps moyen de tri (ms)', \"Test de rapport Merge sort avec threshold nombre d'éléments\")\n",
    "test_de_rapport(dict_results_max_number_merge_threshold, \"nombre maximal\", 'temps moyen de tri (ms)', 'Test de rapport Merge sort avec threshold valeurs max')"
   ]
  },
  {
   "cell_type": "markdown",
   "metadata": {},
   "source": [
    "<u>**Question 3.b):**</u> Analysez le graphe obtenu pour le test de rapport."
   ]
  },
  {
   "cell_type": "markdown",
   "metadata": {},
   "source": [
    "#### Test des constantes"
   ]
  },
  {
   "cell_type": "markdown",
   "metadata": {},
   "source": [
    "<u>**Question 4.a):**</u> Effectuez le test des constantes de votre algorithme."
   ]
  },
  {
   "cell_type": "code",
   "execution_count": null,
   "metadata": {},
   "outputs": [],
   "source": [
    "# TODO Test des constantes\n",
    "test_de_constantes(dict_results_size_merge_threshold, \"nombre d'éléments\", 'temps moyen de tri (ms)', \"Test de constantes Merge sort avec threshold nombre d'éléments\")\n",
    "test_de_constantes(dict_results_max_number_merge_threshold, \"grosseur maximale des nombres\", 'temps moyen de tri (ms)', 'Test de constantes Merge sort avec threshold valeurs max')"
   ]
  },
  {
   "cell_type": "markdown",
   "metadata": {},
   "source": [
    "<u>**Question 4.b):**</u> Analysez le graphe obtenu pour le test des constantes."
   ]
  },
  {
   "cell_type": "markdown",
   "metadata": {},
   "source": [
    "<u>**Question 5):**</u> Commentez l'impact du seuil de récursivité. Que représente t'il pour l'algorithme diviser pour régner et l'algorithme naïf ?"
   ]
  },
  {
   "cell_type": "markdown",
   "metadata": {},
   "source": [
    "## Partie 5 : Algorithme non comparatif (Radix Sort LSD) (5 pts)"
   ]
  },
  {
   "cell_type": "markdown",
   "metadata": {},
   "source": [
    "### Implantation"
   ]
  },
  {
   "cell_type": "markdown",
   "metadata": {},
   "source": [
    "<u>**Question 1.a):**</u> Implantez l'algorithme de tri radix sort. Cette algorithme ne fait pas de comparaison entre les différents éléments de la liste.\n",
    "\n",
    "Utilisez la fonction `is_valid_solution` pour valider votre réponse sur quelques exemplaires aléatoires."
   ]
  },
  {
   "cell_type": "code",
   "execution_count": 75,
   "metadata": {},
   "outputs": [],
   "source": [
    "def radix_sort(original: list[int]) -> list[int]:\n",
    "    max_num = max(original)\n",
    "    exp = 1\n",
    "    while max_num // exp > 0:\n",
    "        count = [0] * 10\n",
    "        output = [0] * len(original)\n",
    "\n",
    "        for num in original:\n",
    "            index = (num // exp) % 10\n",
    "            count[index] += 1\n",
    "\n",
    "        for i in range(1, 10):\n",
    "            count[i] += count[i - 1]\n",
    "\n",
    "        for i in range(len(original) - 1, -1, -1):\n",
    "            index = (original[i] // exp) % 10\n",
    "            output[count[index] - 1] = original[i]\n",
    "            count[index] -= 1\n",
    "\n",
    "        original = output\n",
    "        exp *= 10\n",
    "\n",
    "    return original"
   ]
  },
  {
   "cell_type": "code",
   "execution_count": null,
   "metadata": {},
   "outputs": [],
   "source": [
    "problem = Problem(10, 100)\n",
    "sample = problem.generate_sample()\n",
    "is_valid_solution(sample, radix_sort(sample))"
   ]
  },
  {
   "cell_type": "markdown",
   "metadata": {},
   "source": [
    "<u>**Question 1.b):**</u> Quelle est la complexité asymptotique théorique de cet algorithme? Veuillez justifier."
   ]
  },
  {
   "cell_type": "markdown",
   "metadata": {},
   "source": [
    "La complexité asymptotique est Theta de (nd), où n est la taille de l'exemplaire et d est le nombre de chiffres dans le plus gros nombre de l'exemplaire. Par exemple, si le plus gros nombre est 57, alors d = 2. On passe d fois dans le premier loop et (n + 10 + n) fois dans les 2e loop. "
   ]
  },
  {
   "cell_type": "markdown",
   "metadata": {},
   "source": [
    "<u>**Question 1.c):**</u> Comment cet algorithme ce distingue-t-il des algorithmes précédents? Est-ce toujours un avantage? Expliquez.\n"
   ]
  },
  {
   "cell_type": "markdown",
   "metadata": {},
   "source": [
    "Il se distingue car le temps d'exécution dépends aussi du nombre de chiffres que contient le plus grand entier dans la liste, en plus de la longueur de la liste.\n",
    "\n",
    "C'est un avantage dépendamment de la valeur de d. si d est plus petit que n, alors radix sort devrait battre les algorithmes qui ont une complexité theta(n^2). Si d est plus petit que log n, alors radix bat les algorithmes d'une complexité de theta(n log n). Si d est plus grand que n, alors tous les algorithmes plus hauts devraient en théorie être plus rapides que radix."
   ]
  },
  {
   "cell_type": "markdown",
   "metadata": {},
   "source": [
    "### Mesures"
   ]
  },
  {
   "cell_type": "markdown",
   "metadata": {},
   "source": [
    "<u>**Question 1.d):**</u> Faites afficher vos mesures dans un tableau avec la fonction `display_data_as_table`."
   ]
  },
  {
   "cell_type": "code",
   "execution_count": null,
   "metadata": {},
   "outputs": [],
   "source": [
    "results_size_change_radix = measure_range(radix_sort, make_problems([100*x for x in range(1, 101)], [10000 for _ in range(10)]))\n",
    "results_max_number_radix = measure_range(radix_sort, make_problems([1000 for _ in range(10)], [10**x for x in range(1, 51)]))\n",
    "\n",
    "dict_results_size_radix = dict_size_from_measures(results_size_change_radix)\n",
    "dict_results_max_number_radix = dict_max_number_from_measures(results_max_number_radix)\n",
    "\n",
    "display_data_as_table(results_size_change_radix)\n",
    "print(dict_results_size_radix)\n",
    "display_data_as_table(results_max_number_radix)\n",
    "print(dict_results_max_number_radix)"
   ]
  },
  {
   "cell_type": "markdown",
   "metadata": {},
   "source": [
    "### Analyse Hybride"
   ]
  },
  {
   "cell_type": "markdown",
   "metadata": {},
   "source": [
    "#### Test de puissance"
   ]
  },
  {
   "cell_type": "markdown",
   "metadata": {},
   "source": [
    "<u>**Question 2.a):**</u> Effectuez le test de puissance de votre algorithme."
   ]
  },
  {
   "cell_type": "code",
   "execution_count": null,
   "metadata": {},
   "outputs": [],
   "source": [
    "# TODO Test de puissance\n",
    "def dict_max_number_to_linear_dict(dict_max_number):\n",
    "    new_dict = {}\n",
    "    for key in dict_max_number.keys():\n",
    "        # print(str(key))\n",
    "        # print(len(str(key)))\n",
    "        new_dict[len(str(key))] = dict_max_number[key]\n",
    "    return new_dict\n",
    "\n",
    "dict_number_of_digits = dict_max_number_to_linear_dict(dict_results_max_number_radix)\n",
    "print(dict_number_of_digits)\n",
    "\n",
    "test_de_puissance(dict_results_size_radix, \"nombre d'éléments dans la liste\", 'temps moyen de tri (ms)', \"Test de puissance radix sort nombre d'éléments\")\n",
    "test_de_puissance(dict_number_of_digits, \"nombre maximal\", 'temps moyen de tri (ms)', 'Test de puissance radix sort valeurs max')"
   ]
  },
  {
   "cell_type": "markdown",
   "metadata": {},
   "source": [
    "<u>**Question 2.b):**</u> Analysez le graphe obtenu pour le test de puissance."
   ]
  },
  {
   "cell_type": "markdown",
   "metadata": {},
   "source": [
    "Le test de puissance sur l'algorithme radix semble indiquer une relation linéaire sur la taille de l'exemplaire et sur le nombre de chiffres du plus grand nombre."
   ]
  },
  {
   "cell_type": "markdown",
   "metadata": {},
   "source": [
    "#### Test de rapport"
   ]
  },
  {
   "cell_type": "markdown",
   "metadata": {},
   "source": [
    "<u>**Question 3.a):**</u> Effectuez le test de rapport de votre algorithme."
   ]
  },
  {
   "cell_type": "code",
   "execution_count": null,
   "metadata": {},
   "outputs": [],
   "source": [
    "# TODO Test de rapport\n",
    "test_de_rapport(change_to_predict(dict_results_size_radix, lambda x: x), \"nombre d'éléments dans la liste\", 'temps moyen de tri (ms)', \"Test de rapport radix sort nombre d'éléments\")\n",
    "test_de_rapport(change_to_predict(dict_number_of_digits, lambda x: x), \"nombre maximal\", 'temps moyen de tri (ms)', 'Test de rapport radix sort valeurs max')"
   ]
  },
  {
   "cell_type": "markdown",
   "metadata": {},
   "source": [
    "<u>**Question 3.b):**</u> Analysez le graphe obtenu pour le test de rapport."
   ]
  },
  {
   "cell_type": "markdown",
   "metadata": {},
   "source": [
    "Nous avons appliquer la transformation y / f(x), où f(x) = x à nos données. Pour les tailles et pour le nombre de chiffres, nous semblons avoir une convergence vers une valeur > 0, alors on peut dire que notre hypothèse sur f(x) semble être correcte"
   ]
  },
  {
   "cell_type": "markdown",
   "metadata": {},
   "source": [
    "#### Test des constantes"
   ]
  },
  {
   "cell_type": "markdown",
   "metadata": {},
   "source": [
    "<u>**Question 4.a):**</u> Effectuez le test des constantes de votre algorithme."
   ]
  },
  {
   "cell_type": "code",
   "execution_count": null,
   "metadata": {},
   "outputs": [],
   "source": [
    "# TODO Test des constantes\n",
    "test_de_constantes(change_x_to_predict(dict_results_size_radix, lambda x: x), \"nombre d'éléments\", 'temps moyen de tri (ms)', \"Test de constantes radix sort nombre d'éléments\")\n",
    "test_de_constantes(change_x_to_predict(dict_number_of_digits, lambda x: x), \"grosseur maximale des nombres\", 'temps moyen de tri (ms)', 'Test de constantes radix sort valeurs max')"
   ]
  },
  {
   "cell_type": "markdown",
   "metadata": {},
   "source": [
    "<u>**Question 4.b):**</u> Analysez le graphe obtenu pour le test des constantes."
   ]
  },
  {
   "cell_type": "markdown",
   "metadata": {},
   "source": [
    "Ici, le graphe sur le test de constances semble indiquer qu'on a en effet une bonne hypothèse de f(x) = x pour chacune des variables, car nous avons une relation linéaire pour les 2 graphes."
   ]
  },
  {
   "cell_type": "markdown",
   "metadata": {},
   "source": [
    "# Conclusion (3 pts)\n",
    "\n",
    "Résumez *brièvement* vos découvertes et analyses, et indiquez dans quelles circonstances vous utiliserez chacun de ces algorithmes."
   ]
  },
  {
   "cell_type": "markdown",
   "metadata": {},
   "source": [
    " ## Autres critères (2 pts)\n",
    " Qualité du code / 1 pt\n",
    "\n",
    "Présentation générale / 1 pt\n",
    "\n",
    "- Concision\n",
    "- Qualité du français\n",
    "\n",
    "Pénalité retard\n",
    "- -2 pt / journée de retard, arrondi vers le haut. Les TPs ne sont plus acceptés après 3 jours."
   ]
  }
 ],
 "metadata": {
  "kernelspec": {
   "display_name": "Python 3",
   "language": "python",
   "name": "python3"
  },
  "language_info": {
   "codemirror_mode": {
    "name": "ipython",
    "version": 3
   },
   "file_extension": ".py",
   "mimetype": "text/x-python",
   "name": "python",
   "nbconvert_exporter": "python",
   "pygments_lexer": "ipython3",
   "version": "3.10.14"
  }
 },
 "nbformat": 4,
 "nbformat_minor": 2
}
